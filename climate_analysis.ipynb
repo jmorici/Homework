{
 "cells": [
  {
   "cell_type": "code",
   "execution_count": 2,
   "metadata": {},
   "outputs": [],
   "source": [
    "import sqlalchemy\n",
    "from sqlalchemy.ext.automap import automap_base\n",
    "from sqlalchemy.orm import Session\n",
    "from sqlalchemy import create_engine, func\n",
    "import datetime as dt\n",
    "import pandas as pd\n",
    "import matplotlib.pyplot as plt\n",
    "import matplotlib as mpl\n",
    "import matplotlib.dates as mdates\n",
    "import pprint\n",
    "import seaborn as sns"
   ]
  },
  {
   "cell_type": "code",
   "execution_count": 3,
   "metadata": {},
   "outputs": [],
   "source": [
    "# Create engine connection\n",
    "engine = create_engine(\"sqlite:///hawaii.sqlite\")\n",
    "conn = engine.connect()\n",
    "\n",
    "# Declare a Base using `automap_base()`\n",
    "Base = automap_base()\n",
    "\n",
    "# Use the Base class to reflect the database tables\n",
    "Base.prepare(engine, reflect=True)"
   ]
  },
  {
   "cell_type": "code",
   "execution_count": 4,
   "metadata": {},
   "outputs": [
    {
     "data": {
      "text/plain": [
       "['measurement', 'station']"
      ]
     },
     "execution_count": 4,
     "metadata": {},
     "output_type": "execute_result"
    }
   ],
   "source": [
    "Base.classes.keys()"
   ]
  },
  {
   "cell_type": "code",
   "execution_count": 5,
   "metadata": {},
   "outputs": [],
   "source": [
    "# Assign the classes to variables\n",
    "Measurement = Base.classes.measurement\n",
    "Station = Base.classes.station"
   ]
  },
  {
   "cell_type": "code",
   "execution_count": 6,
   "metadata": {},
   "outputs": [],
   "source": [
    "session = Session(engine)"
   ]
  },
  {
   "cell_type": "markdown",
   "metadata": {},
   "source": [
    "### Precipitation Analysis"
   ]
  },
  {
   "cell_type": "code",
   "execution_count": 7,
   "metadata": {},
   "outputs": [
    {
     "name": "stdout",
     "output_type": "stream",
     "text": [
      "The last date of record is 2017-08-23.\n",
      "Therefore, query begins on 2016-08-23.\n"
     ]
    }
   ],
   "source": [
    "# Find the latest date of record\n",
    "latest = session.query(Measurement.date).order_by(Measurement.date.desc()).first()[0]\n",
    "print(f\"The last date of record is {latest}.\")\n",
    "\n",
    "# Date 12 months before the last date of record\n",
    "date_start_query = (latest - dt.timedelta(days=365))\n",
    "print(f\"Therefore, query begins on {date_start_query}.\")"
   ]
  },
  {
   "cell_type": "code",
   "execution_count": 8,
   "metadata": {},
   "outputs": [
    {
     "data": {
      "text/html": [
       "<div>\n",
       "<style scoped>\n",
       "    .dataframe tbody tr th:only-of-type {\n",
       "        vertical-align: middle;\n",
       "    }\n",
       "\n",
       "    .dataframe tbody tr th {\n",
       "        vertical-align: top;\n",
       "    }\n",
       "\n",
       "    .dataframe thead th {\n",
       "        text-align: right;\n",
       "    }\n",
       "</style>\n",
       "<table border=\"1\" class=\"dataframe\">\n",
       "  <thead>\n",
       "    <tr style=\"text-align: right;\">\n",
       "      <th></th>\n",
       "      <th>prcp</th>\n",
       "    </tr>\n",
       "    <tr>\n",
       "      <th>date</th>\n",
       "      <th></th>\n",
       "    </tr>\n",
       "  </thead>\n",
       "  <tbody>\n",
       "    <tr>\n",
       "      <th>2016-08-23</th>\n",
       "      <td>0.451667</td>\n",
       "    </tr>\n",
       "    <tr>\n",
       "      <th>2016-08-24</th>\n",
       "      <td>1.555000</td>\n",
       "    </tr>\n",
       "    <tr>\n",
       "      <th>2016-08-25</th>\n",
       "      <td>0.077143</td>\n",
       "    </tr>\n",
       "    <tr>\n",
       "      <th>2016-08-26</th>\n",
       "      <td>0.016667</td>\n",
       "    </tr>\n",
       "    <tr>\n",
       "      <th>2016-08-27</th>\n",
       "      <td>0.064000</td>\n",
       "    </tr>\n",
       "  </tbody>\n",
       "</table>\n",
       "</div>"
      ],
      "text/plain": [
       "                prcp\n",
       "date                \n",
       "2016-08-23  0.451667\n",
       "2016-08-24  1.555000\n",
       "2016-08-25  0.077143\n",
       "2016-08-26  0.016667\n",
       "2016-08-27  0.064000"
      ]
     },
     "execution_count": 8,
     "metadata": {},
     "output_type": "execute_result"
    }
   ],
   "source": [
    "# Query date and prcp\n",
    "date_prcp = pd.read_sql(\"select date, prcp from measurement \\\n",
    "                        where date >= '2016-08-23';\", conn)\n",
    "\n",
    "# Average prcp across stations\n",
    "date_prcp_avg = date_prcp.groupby([\"date\"]).mean()\n",
    "date_prcp_avg.head()"
   ]
  },
  {
   "cell_type": "code",
   "execution_count": 18,
   "metadata": {},
   "outputs": [
    {
     "data": {
      "image/png": "[encoded data removed]",
      "text/plain": [
       "<matplotlib.figure.Figure at 0x1a135484e0>"
      ]
     },
     "metadata": {},
     "output_type": "display_data"
    }
   ],
   "source": [
    "import matplotlib.dates as mdates\n",
    "\n",
    "#plot data\n",
    "plt.figure(figsize=(8,4))\n",
    "plt.bar(pd.to_datetime(date_prcp_avg.index), date_prcp_avg[\"prcp\"], color=\"b\", \n",
    "        width=2, label=\"Precipitation\")\n",
    "plt.gca().set_facecolor(\"white\")\n",
    "\n",
    "# Format x-tick label\n",
    "plt.gca().xaxis.set_major_locator(mdates.MonthLocator(interval=2))\n",
    "plt.gca().xaxis.set_major_formatter(mdates.DateFormatter('%Y-%m-%d'))\n",
    "plt.xticks(rotation=45, ha=\"right\")\n",
    "\n",
    "# Other formatting\n",
    "plt.xlabel(\"Date\")\n",
    "plt.ylabel(\"Precipitation\")\n",
    "plt.title(\"Precipitation Analysis\")\n",
    "plt.legend(frameon=True, facecolor=\"grey\")\n",
    "plt.grid(linestyle='-', linewidth='0.5', color='grey')"
   ]
  },
  {
   "cell_type": "code",
   "execution_count": 17,
   "metadata": {},
   "outputs": [
    {
     "data": {
      "text/html": [
       "<div>\n",
       "<style scoped>\n",
       "    .dataframe tbody tr th:only-of-type {\n",
       "        vertical-align: middle;\n",
       "    }\n",
       "\n",
       "    .dataframe tbody tr th {\n",
       "        vertical-align: top;\n",
       "    }\n",
       "\n",
       "    .dataframe thead th {\n",
       "        text-align: right;\n",
       "    }\n",
       "</style>\n",
       "<table border=\"1\" class=\"dataframe\">\n",
       "  <thead>\n",
       "    <tr style=\"text-align: right;\">\n",
       "      <th></th>\n",
       "      <th>prcp</th>\n",
       "    </tr>\n",
       "  </thead>\n",
       "  <tbody>\n",
       "    <tr>\n",
       "      <th>count</th>\n",
       "      <td>2021.000000</td>\n",
       "    </tr>\n",
       "    <tr>\n",
       "      <th>mean</th>\n",
       "      <td>0.177279</td>\n",
       "    </tr>\n",
       "    <tr>\n",
       "      <th>std</th>\n",
       "      <td>0.461190</td>\n",
       "    </tr>\n",
       "    <tr>\n",
       "      <th>min</th>\n",
       "      <td>0.000000</td>\n",
       "    </tr>\n",
       "    <tr>\n",
       "      <th>25%</th>\n",
       "      <td>0.000000</td>\n",
       "    </tr>\n",
       "    <tr>\n",
       "      <th>50%</th>\n",
       "      <td>0.020000</td>\n",
       "    </tr>\n",
       "    <tr>\n",
       "      <th>75%</th>\n",
       "      <td>0.130000</td>\n",
       "    </tr>\n",
       "    <tr>\n",
       "      <th>max</th>\n",
       "      <td>6.700000</td>\n",
       "    </tr>\n",
       "  </tbody>\n",
       "</table>\n",
       "</div>"
      ],
      "text/plain": [
       "              prcp\n",
       "count  2021.000000\n",
       "mean      0.177279\n",
       "std       0.461190\n",
       "min       0.000000\n",
       "25%       0.000000\n",
       "50%       0.020000\n",
       "75%       0.130000\n",
       "max       6.700000"
      ]
     },
     "execution_count": 17,
     "metadata": {},
     "output_type": "execute_result"
    }
   ],
   "source": [
    "#Summary\n",
    "date_prcp.describe()"
   ]
  },
  {
   "cell_type": "markdown",
   "metadata": {},
   "source": [
    "### Station Analysis"
   ]
  },
  {
   "cell_type": "code",
   "execution_count": 20,
   "metadata": {},
   "outputs": [
    {
     "name": "stdout",
     "output_type": "stream",
     "text": [
      "There are 9 stations total.\n"
     ]
    }
   ],
   "source": [
    "# Count number of stations\n",
    "num_stations = session.query(func.count(Station.station)).all()[0][0]\n",
    "print(f\"There are {num_stations} stations total.\")"
   ]
  },
  {
   "cell_type": "code",
   "execution_count": 21,
   "metadata": {},
   "outputs": [
    {
     "name": "stdout",
     "output_type": "stream",
     "text": [
      "[('USC00519281', 2772),\n",
      " ('USC00513117', 2696),\n",
      " ('USC00519397', 2685),\n",
      " ('USC00519523', 2572),\n",
      " ('USC00516128', 2484),\n",
      " ('USC00514830', 1937),\n",
      " ('USC00511918', 1932),\n",
      " ('USC00517948', 683),\n",
      " ('USC00518838', 342)]\n",
      "\n",
      "Station USC00519281 has the highest number of observations.\n"
     ]
    }
   ],
   "source": [
    "# Query most active station\n",
    "active_stations = session.query(Measurement.station, func.count(Measurement.prcp)). \\\n",
    "                    group_by(Measurement.station). \\\n",
    "                    order_by(func.count(Measurement.prcp).desc()).all()\n",
    "pprint.pprint(active_stations)\n",
    "print(f\"\\nStation {active_stations[0][0]} has the highest number of observations.\")"
   ]
  },
  {
   "cell_type": "code",
   "execution_count": 23,
   "metadata": {},
   "outputs": [
    {
     "data": {
      "image/png": "[encoded data removed]",
      "text/plain": [
       "<matplotlib.figure.Figure at 0x1a1359ddd8>"
      ]
     },
     "metadata": {},
     "output_type": "display_data"
    }
   ],
   "source": [
    "# Query temperatures\n",
    "tobs_raw = session.query(Measurement.tobs). \\\n",
    "    filter(Measurement.date >= date_start_query). \\\n",
    "    filter(Measurement.station == active_stations[0][0]).all()\n",
    "\n",
    "# Store temperatures in a list\n",
    "tobs = [temp[0] for temp in tobs_raw]\n",
    "\n",
    "# Plot\n",
    "plt.hist(tobs, bins=12, label=\"temperature\", color=\"b\")\n",
    "plt.gca().set_facecolor(\"white\")\n",
    "plt.xlabel(\"Temperature\")\n",
    "plt.ylabel(\"Frequency\")\n",
    "plt.title(f\"Temperature frequency at station {active_stations[0][0]}\")\n",
    "plt.legend(frameon=True, facecolor=\"white\")\n",
    "plt.grid(linestyle='-', linewidth='0.5', color='lightgrey')\n",
    "plt.gca().set_axisbelow(True)"
   ]
  },
  {
   "cell_type": "markdown",
   "metadata": {},
   "source": [
    "### Temperature Analysis"
   ]
  },
  {
   "cell_type": "code",
   "execution_count": 24,
   "metadata": {},
   "outputs": [],
   "source": [
    "def calc_temps(start_date, end_date):\n",
    " \n",
    "    start_date_dt = dt.datetime.strptime(start_date, '%Y-%m-%d')\n",
    "    end_date_dt = dt.datetime.strptime(end_date, '%Y-%m-%d')\n",
    "\n",
    "    sel = [func.min(Measurement.tobs), func.avg(Measurement.tobs), func.max(Measurement.tobs)]\n",
    "    temps = session.query(*sel). \\\n",
    "                filter(Measurement.date>=start_date_dt). \\\n",
    "                filter(Measurement.date<=end_date_dt).all()[0]\n",
    "    \n",
    "    return temps"
   ]
  },
  {
   "cell_type": "code",
   "execution_count": 25,
   "metadata": {},
   "outputs": [
    {
     "name": "stdout",
     "output_type": "stream",
     "text": [
      "My trip starts on 2017-06-03 and ends on 2017-06-13. For the range of dates, the min temperature is 72.0, mean temperature is 77.20689655172414, and maximum temperature is 83.0.\n"
     ]
    }
   ],
   "source": [
    "# Trip Dates\n",
    "start_date = \"2017-06-03\"\n",
    "end_date = \"2017-06-13\"\n",
    "[temp_min, temp_avg, temp_max] = calc_temps(start_date, end_date)\n",
    "\n",
    "print(f\"My trip starts on {start_date} and ends on {end_date}. \\\n",
    "For the range of dates, the min temperature is {temp_min}, \\\n",
    "mean temperature is {temp_avg}, and maximum temperature is {temp_max}.\")"
   ]
  },
  {
   "cell_type": "code",
   "execution_count": 26,
   "metadata": {},
   "outputs": [
    {
     "data": {
      "text/plain": [
       "Text(0.5,1,\"My Trip's average temperature\")"
      ]
     },
     "execution_count": 26,
     "metadata": {},
     "output_type": "execute_result"
    },
    {
     "data": {
      "image/png": "[encoded data removed]",
      "text/plain": [
       "<matplotlib.figure.Figure at 0x1a1358fd68>"
      ]
     },
     "metadata": {},
     "output_type": "display_data"
    }
   ],
   "source": [
    "# Plot\n",
    "plt.figure(figsize=(2,5))\n",
    "plt.bar(0, temp_avg, color=\"red\", width=1.4, \n",
    "        alpha=0.7, yerr=temp_max-temp_min, error_kw={\"linewidth\":2})\n",
    "plt.gca().set_facecolor(\"white\")\n",
    "plt.grid(linestyle='-', linewidth='0.5', color='lightgrey')\n",
    "plt.gca().set_axisbelow(True)\n",
    "plt.gca().set_xticks([])\n",
    "plt.xlim((-1, 1))\n",
    "plt.ylim((0, 100))\n",
    "plt.ylabel(\"Temperature (F)\")\n",
    "plt.title(\"My Trip's average temperature\")"
   ]
  },
  {
   "cell_type": "code",
   "execution_count": null,
   "metadata": {},
   "outputs": [],
   "source": []
  }
 ],
 "metadata": {
  "kernelspec": {
   "display_name": "Python 3",
   "language": "python",
   "name": "python3"
  },
  "language_info": {
   "codemirror_mode": {
    "name": "ipython",
    "version": 3
   },
   "file_extension": ".py",
   "mimetype": "text/x-python",
   "name": "python",
   "nbconvert_exporter": "python",
   "pygments_lexer": "ipython3",
   "version": "3.6.4"
  }
 },
 "nbformat": 4,
 "nbformat_minor": 2
}
